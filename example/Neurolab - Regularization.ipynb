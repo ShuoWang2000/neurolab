{
 "metadata": {
  "name": "",
  "signature": "sha256:251a353f7ce5068dce227758bf496573f0d84ffee1801e96e5c4a0d8548f5d4a"
 },
 "nbformat": 3,
 "nbformat_minor": 0,
 "worksheets": [
  {
   "cells": [
    {
     "cell_type": "heading",
     "level": 1,
     "metadata": {},
     "source": [
      "Use train with regularization on feed forward neurol network"
     ]
    },
    {
     "cell_type": "heading",
     "level": 2,
     "metadata": {},
     "source": [
      "1 Explanation of regularization"
     ]
    },
    {
     "cell_type": "markdown",
     "metadata": {},
     "source": [
      "Artificial neural networks are trained by minimizing a cost function that measures the mismatch between observations (targets) and network predictions. These cost functions can take many forms, including:\n",
      "\n",
      "$\\hspace{3 cm} J(w) = (y-y_p(w))^2 \\hspace{6 cm}$      for predicting real values\n",
      "\n",
      "$\\hspace{3 cm}J(w) = y \\ln (y_p(w)) + (1-y) \\ln(1-y_p(w)) \\hspace{3 cm}$    for classification\n",
      "\n",
      "* $J$ is the cost function\n",
      "* $w$ are the weights connecting neurons in the network\n",
      "* $y$ are the observations or target values\n",
      "* $y_p$ are the network predictions given the inputs and weights\n",
      "\n",
      "\n",
      "\n",
      "We regularize the cost function, $J_{reg}(w)$ by including an additional term that penalizes large values of $w$.\n",
      "\n",
      "$\\hspace{3 cm} J_{reg}(w) = J(w) + \\lambda w^2$"
     ]
    },
    {
     "cell_type": "heading",
     "level": 2,
     "metadata": {},
     "source": [
      "2 Preparing data and int network"
     ]
    },
    {
     "cell_type": "code",
     "collapsed": false,
     "input": [
      "import neurolab as nl\n",
      "import numpy as np\n",
      "\n",
      "# Create train samples\n",
      "x = np.linspace(-7, 7, 20)\n",
      "y = np.sin(x) * 0.5\n",
      "\n",
      "size = len(x)\n",
      "\n",
      "inp = x.reshape(size,1)\n",
      "tar = y.reshape(size,1)\n",
      "\n",
      "# Create network with 2 layers and random initialized\n",
      "net = nl.net.newff([[-7, 7]],[5, 1])\n"
     ],
     "language": "python",
     "metadata": {},
     "outputs": [],
     "prompt_number": 8
    },
    {
     "cell_type": "heading",
     "level": 2,
     "metadata": {},
     "source": [
      "3 Train with regularization"
     ]
    },
    {
     "cell_type": "markdown",
     "metadata": {},
     "source": [
      "For train with regularization need addition rr (regularization ratio) parameter to train function\n",
      "\n",
      "rr must be between {0, 1}"
     ]
    },
    {
     "cell_type": "code",
     "collapsed": false,
     "input": [
      "# Train network\n",
      "error = net.train(inp, tar, epochs=500, show=100, goal=0.02, rr=0.5)"
     ],
     "language": "python",
     "metadata": {},
     "outputs": [],
     "prompt_number": 9
    },
    {
     "cell_type": "heading",
     "level": 2,
     "metadata": {},
     "source": [
      "4 Simulate and plot results"
     ]
    },
    {
     "cell_type": "code",
     "collapsed": false,
     "input": [
      "# Simulate network\n",
      "out = net.sim(inp)\n",
      "\n",
      "# Plot result\n",
      "import pylab as pl\n",
      "pl.subplot(211)\n",
      "pl.plot(error)\n",
      "pl.xlabel('Epoch number')\n",
      "pl.ylabel('error (default SSE)')\n",
      "\n",
      "x2 = np.linspace(-6.0,6.0,150)\n",
      "y2 = net.sim(x2.reshape(x2.size,1)).reshape(x2.size)\n",
      "\n",
      "y3 = out.reshape(size)\n",
      "\n",
      "pl.subplot(212)\n",
      "pl.plot(x2, y2, '-',x , y, '.', x, y3, 'p')\n",
      "pl.legend(['train target', 'net output'])\n",
      "pl.show()"
     ],
     "language": "python",
     "metadata": {},
     "outputs": [
      {
       "metadata": {},
       "output_type": "display_data",
       "png": "[encoded data removed]",
       "text": [
        "<matplotlib.figure.Figure at 0x7f0e0c092c90>"
       ]
      }
     ],
     "prompt_number": 10
    }
   ],
   "metadata": {}
  }
 ]
}